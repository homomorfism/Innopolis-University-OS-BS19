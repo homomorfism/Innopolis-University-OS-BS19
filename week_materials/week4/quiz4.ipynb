{
 "cells": [
  {
   "cell_type": "markdown",
   "metadata": {
    "collapsed": true,
    "pycharm": {
     "name": "#%% md\n"
    }
   },
   "source": [
    "#### Task 1\n",
    "\n",
    "What is the output of this C code?\n",
    "\n",
    "```\n",
    "#include <stdio.h>\n",
    "void main()\n",
    "{\n",
    "   int a[3] = {1, 2, 3};\n",
    "   int *p = a;\n",
    "   printf(\"%p  %p\", p, a);\n",
    "}```\n",
    "\n",
    "Select one:\n",
    "- ```Compile time error```\n",
    "- ```Nothing```\n",
    "- ```Different addresses are printed.```\n",
    "- ```Same address is printed. ``` <- **Correct**\n",
    "\n",
    "```a``` is a pointer to array, and ```p = a``` => they have the same addresses."
   ]
  },
  {
   "cell_type": "markdown",
   "source": [
    "#### Task 2\n",
    "\n",
    "What is the output of this C code?\n",
    "\n",
    "```\n",
    "#include <stdio.h>\n",
    "void main()\n",
    "{\n",
    "   char *s = \"hello\";\n",
    "   char *p = s;\n",
    "   printf(\"%p\\t%p\", p, s);\n",
    "}```\n",
    "Select one:\n",
    "- ```Same address is printed ``` <- **Correct**\n",
    "- ```Nothing```\n",
    "- ```Run time error```\n",
    "- ```Different addresses are printed```\n",
    "\n",
    "```a``` is a pointer to char string, and ```p = a``` => they have the same addresses."
   ],
   "metadata": {
    "collapsed": false
   }
  },
  {
   "cell_type": "markdown",
   "source": [
    "#### Task 3\n",
    "\n",
    "What is the output of this C code?\n",
    "\n",
    "```\n",
    "#include <stdio.h>\n",
    "void main()\n",
    "{\n",
    "   char *s = \"hello\";\n",
    "   char *p = s;\n",
    "   printf(\"%c\\t%c\", p[0], s[1]);\n",
    "}```\n",
    "Select one:\n",
    "- ```h l```\n",
    "- ```h h```\n",
    "- ```h e ``` <- **Correct**\n",
    "- ```Run time error```\n",
    "\n",
    "```a``` is a pointer to char string, and ```p = a``` => they have the same addresses.\n",
    "\n",
    "```a[0] = p[0] = 'h'```\n",
    "\n",
    "```a[1] = p[1] = 'e'```"
   ],
   "metadata": {
    "collapsed": false
   }
  },
  {
   "cell_type": "markdown",
   "source": [
    "#### Task 4\n",
    "\n",
    "What is the output of this C code?\n",
    "\n",
    "```\n",
    "#include <stdio.h>\n",
    "void main()\n",
    "{\n",
    "   char *s= \"hello\";\n",
    "   char *p = s;\n",
    "   printf(\"%c\\t%c\", *(p + 3),  s[1]);\n",
    "}```\n",
    "Select one:\n",
    "- ```h e```\n",
    "- ```l e ``` <- **Correct**\n",
    "- ```l l```\n",
    "- ```l o```\n",
    "\n",
    "```*(p + 3) = p[3] = s[3] = 'l'```\n",
    "\n",
    "```s[1] = 'e'```"
   ],
   "metadata": {
    "collapsed": false,
    "pycharm": {
     "name": "#%% md\n"
    }
   }
  },
  {
   "cell_type": "markdown",
   "source": [
    "#### Task 5\n",
    "\n",
    "What is the output of the code given below?\n",
    "\n",
    "```\n",
    "#include <stdio.h>\n",
    "int main()\n",
    "{\n",
    "   int ary[4] = {1, 2, 3, 4};\n",
    "   int *p = ary + 3;\n",
    "   printf(\"%d %d\\n\", p[-2], ary[*p]);\n",
    "}```\n",
    "\n",
    "Select one:\n",
    "- ```2 4```\n",
    "- ```2 3```\n",
    "- ```2 <garbage> (or 0) ``` <- **Correct**\n",
    "- ```Compile time error```\n",
    "\n",
    "Explaination will be added!"
   ],
   "metadata": {
    "collapsed": false
   }
  },
  {
   "cell_type": "markdown",
   "source": [
    "#### Task 6\n",
    "\n",
    "Consider a compiler where int takes 4 bytes, char takes 1 byte and pointer takes 4 bytes.\n",
    "\n",
    "```\n",
    "#include <stdio.h>\n",
    "int main()\n",
    "{\n",
    "    int arri[] = {1, 2 ,3};\n",
    "    int *ptri = arri;\n",
    "\n",
    "    char arrc[] = {1, 2 ,3};\n",
    "    char *ptrc = arrc;\n",
    "\n",
    "    printf(\"sizeof arri[] = %lu \", sizeof(arri));\n",
    "    printf(\"sizeof ptri = %lu \", sizeof(ptri));\n",
    "\n",
    "    printf(\"sizeof arrc[] = %lu \", sizeof(arrc));\n",
    "    printf(\"sizeof ptrc = %lu \", sizeof(ptrc));\n",
    "\n",
    "    return 0;\n",
    "}```\n",
    "\n",
    "Select one:\n",
    "- ```sizeof arri[] = 3 sizeof ptri = 4 sizeof arrc[] = 3 sizeof ptrc = 1```\n",
    "- ```sizeof arri[] = 3 sizeof ptri = 4 sizeof arrc[] = 3 sizeof ptrc = 4```\n",
    "- ```sizeof arri[] = 12 sizeof ptri = 4 sizeof arrc[] = 3 sizeof ptrc = 1```\n",
    "- ```sizeof arri[] = 12 sizeof ptri = 4 sizeof arrc[] = 3 sizeof ptrc = 4 ``` <- **Correct**\n",
    "\n",
    "Size of array ```arri``` = 3 * sizeof(```int```) = 12 bytes\n",
    "\n",
    "Size of pointer ```ptri``` = sizeof(```int *```) = 4 bytes, because we cast ```int[3]``` to ```int *```.\n",
    "\n",
    "Size of array ```arrc``` = 3 * sizeof(```char```) = 3 bytes.\n",
    "\n",
    "Size of pointer ```ptrc``` = sizeof(```char *```) = 4 bytes, as any address pointer."
   ],
   "metadata": {
    "collapsed": false
   }
  },
  {
   "cell_type": "markdown",
   "source": [
    "#### Task 7\n",
    "\n",
    "Which of the following is a properly defined struct?\n",
    "\n",
    "Select one:\n",
    "- ```struct {int a;}```\n",
    "- ```struct a_struct {int a;}```\n",
    "- ```struct a_struct {int a;};``` <- **Correct**\n",
    "- ```struct a_struct int a;```\n",
    "\n",
    "The syntactics of defining struct:\n",
    "\n",
    "```\n",
    "struct [structure tag] {\n",
    "\n",
    "   member definition;\n",
    "   member definition;\n",
    "   ...\n",
    "   member definition;\n",
    "} [one or more structure variables];\n",
    "```\n",
    "\n",
    "[C - Structures](https://www.tutorialspoint.com/cprogramming/c_structures.htm)"
   ],
   "metadata": {
    "collapsed": false
   }
  }
 ],
 "metadata": {
  "kernelspec": {
   "display_name": "Python 3",
   "language": "python",
   "name": "python3"
  },
  "language_info": {
   "codemirror_mode": {
    "name": "ipython",
    "version": 2
   },
   "file_extension": ".py",
   "mimetype": "text/x-python",
   "name": "python",
   "nbconvert_exporter": "python",
   "pygments_lexer": "ipython2",
   "version": "2.7.6"
  }
 },
 "nbformat": 4,
 "nbformat_minor": 0
}