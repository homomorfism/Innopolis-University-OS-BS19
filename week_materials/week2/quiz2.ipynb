{
 "cells": [
  {
   "cell_type": "markdown",
   "source": [
    "####  Task 1\n",
    "\n",
    "Consider a system that has four CPUs, each CPU having two threads (hyperthreading). Suppose six programs, P0, P1, P2, P3, P4 and P5 are started with run times of 5, 10, 15, 5, 10 and 10 msec, respectively. Which is the minimum time in milliseconds that is needed to execute these programs?\n",
    "\n",
    "\n",
    "Select one:\n",
    "- ```30```\n",
    "- ```25```\n",
    "-  ```20```\n",
    "- ```15``` <- **Correct**\n",
    "-  ```7.5```\n",
    "\n",
    "\n",
    "Solution: 4 cores, 8 threads:\n",
    "- 5 and 10 ms. for 1 core;\n",
    "- 15 for 2 ms. core;\n",
    "- 5 and 10 ms. for 3 core;\n",
    "- 10 for 4 ms. core.\n",
    "\n",
    "Please notice that threads executing in cores **sequentially**, not in parallel - there is context switch, that fastly changes threads, but still threads execute one by one.\n",
    "\n",
    "![context switch](context-switching.png)\n"
   ],
   "metadata": {
    "collapsed": false
   }
  },
  {
   "cell_type": "markdown",
   "source": [
    "####  Task 2\n",
    "\n",
    "PSW register stands for ____________. Select one:\n",
    "- ```Process status word register```\n",
    "- ```Pipeline status word register```\n",
    "- ```Processor status word register```\n",
    "- ```Program status word register``` <- **Correct**\n",
    "\n",
    "[What is PSW?](https://en.wikipedia.org/wiki/Status_register)\n"
   ],
   "metadata": {
    "collapsed": false
   }
  },
  {
   "cell_type": "markdown",
   "source": [
    "####  Task 3\n",
    "\n",
    "The software that talks to a controller, giving it commands and accepting responses is called _______________.\n",
    "Select one:\n",
    "- ```Supervisor```\n",
    "- ```Device driver``` <- **Correct**\n",
    "- ```BIOS```\n",
    "- ```Interrupt vector```"
   ],
   "metadata": {
    "collapsed": false
   }
  },
  {
   "cell_type": "markdown",
   "source": [
    "####  Task 4\n",
    "\n",
    "\n",
    "Some ways to do input and output (I/O operations) are (select one or more):\n",
    "- ```by making program directly send a flow of bits to a device which converts these bits into understandable commands```\n",
    "- ```by using the special DMA chip ``` <- **Correct**\n",
    "- ```a user program issues a special system call which is translated to a procedure call to the driver ``` <- **Correct**\n",
    "- ```by installing special software into BIOS```\n",
    "- ```driver starts the device and asks it to give an interrupt when it is finished``` <- **Correct**\n",
    "\n",
    "The solution to be added"
   ],
   "metadata": {
    "collapsed": false
   }
  },
  {
   "cell_type": "markdown",
   "source": [
    "####  Task 5\n",
    "\n",
    "Which of the below are **not** buses?\n",
    "Select one or more:\n",
    "\n",
    "- ```USB``` <- Bus\n",
    "- ```PSW``` <- **Correct**, PSW - program status word\n",
    "- ```DMA``` <- **Correct**, DMA(direct memory access) - chip that handles I/O\n",
    "- ```IOS``` <- **Correct**, IOS - operating system\n",
    "- ```PCI``` <- Bus\n",
    "- ```SATA``` <- Bus, SATA connects hard drives with motherboard\n",
    "- ```DMI``` <- Bus, DMI - Direct Media Interface (DMI) is Intel's proprietary link between the north bridge and south bridge on a computer motherboard.\n",
    "- ```PCI3``` <- Bus\n",
    "- ```PCIe``` <- Also bus\n",
    "- ```BIOS``` <- **Correct**, Basic Input/Output System\n",
    "- ```PROM``` <- **Correct**, Programmable Read-Only Memory"
   ],
   "metadata": {
    "collapsed": false
   }
  },
  {
   "cell_type": "markdown",
   "source": [
    "####  Task 6\n",
    "\n",
    "If multiple devices finish while interrupts are disabled, the ______________ decides which one to let through first, usually based on static priorities assigned to each device.\n",
    "Select one:\n",
    "\n",
    "- ```Device driver```\n",
    "- ```Device controller```\n",
    "- ```Disk controller```\n",
    "- ```Interrupt controller ``` <- **Correct**\n",
    "\n",
    "Interrupt controller deals with handling interrupts from devices.\n",
    "\n",
    "![interrupt](Interrupt%20Management.jpg)\n",
    "\n",
    "[What is Interrupt controller?](https://doc.micrium.com/display/os305/Handling+CPU+Interrupts)"
   ],
   "metadata": {
    "collapsed": false
   }
  },
  {
   "cell_type": "markdown",
   "source": [
    "####  Task 7\n",
    "\n",
    "Once the CPU has decided to take the interrupt, __(this)__ and __(this)__ are typically then pushed onto the current stack and the CPU switched into kernel mode.\n",
    "Select one or more:\n",
    "- ```the PSW ``` <- **Correct**\n",
    "- ```the interrupt vector```\n",
    "- ```the program counter ``` <- **Correct**\n",
    "- ```the heap```\n",
    "- ```the PCI```\n",
    "\n",
    "All registers of process should be saved, that's why **PSW** and **PC** should be pushed into stack."
   ],
   "metadata": {
    "collapsed": false
   }
  }
 ],
 "metadata": {
  "kernelspec": {
   "display_name": "Python 3",
   "language": "python",
   "name": "python3"
  },
  "language_info": {
   "codemirror_mode": {
    "name": "ipython",
    "version": 2
   },
   "file_extension": ".py",
   "mimetype": "text/x-python",
   "name": "python",
   "nbconvert_exporter": "python",
   "pygments_lexer": "ipython2",
   "version": "2.7.6"
  }
 },
 "nbformat": 4,
 "nbformat_minor": 0
}